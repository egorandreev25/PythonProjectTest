{
 "cells": [
  {
   "cell_type": "markdown",
   "id": "3acebddc",
   "metadata": {},
   "source": [
    "# Contens"
   ]
  },
  {
   "cell_type": "markdown",
   "id": "21350c3a",
   "metadata": {},
   "source": [
    "##First Programm"
   ]
  },
  {
   "cell_type": "code",
   "execution_count": 5,
   "id": "46bd8edf",
   "metadata": {},
   "outputs": [
    {
     "name": "stdout",
     "output_type": "stream",
     "text": [
      "3\n",
      "First programm is done\n"
     ]
    }
   ],
   "source": [
    "a=1\n",
    "b=2\n",
    "print(a+b)\n",
    "print('First programm is done')"
   ]
  },
  {
   "cell_type": "markdown",
   "id": "8b0a3bb0",
   "metadata": {},
   "source": [
    "##Second Programm"
   ]
  },
  {
   "cell_type": "markdown",
   "id": "ac7b40db",
   "metadata": {},
   "source": []
  },
  {
   "cell_type": "code",
   "execution_count": 6,
   "id": "227c6ee4",
   "metadata": {},
   "outputs": [
    {
     "name": "stdout",
     "output_type": "stream",
     "text": [
      "Second Porgramm is created\n"
     ]
    }
   ],
   "source": [
    "print('Second Porgramm is created')"
   ]
  }
 ],
 "metadata": {
  "kernelspec": {
   "display_name": "Python 3 (ipykernel)",
   "language": "python",
   "name": "python3"
  },
  "language_info": {
   "codemirror_mode": {
    "name": "ipython",
    "version": 3
   },
   "file_extension": ".py",
   "mimetype": "text/x-python",
   "name": "python",
   "nbconvert_exporter": "python",
   "pygments_lexer": "ipython3",
   "version": "3.10.0"
  }
 },
 "nbformat": 4,
 "nbformat_minor": 5
}
